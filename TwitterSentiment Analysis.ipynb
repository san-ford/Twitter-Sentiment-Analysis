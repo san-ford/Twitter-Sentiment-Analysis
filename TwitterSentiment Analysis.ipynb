{
 "cells": [
  {
   "cell_type": "markdown",
   "id": "a5e5c3b9-f2f6-4622-8ec1-83b65e9c8942",
   "metadata": {},
   "source": [
    "# Twitter Sentiment Analysis"
   ]
  },
  {
   "cell_type": "markdown",
   "id": "f151ccb8-1e15-4005-ad38-4d379a55db9b",
   "metadata": {},
   "source": [
    "First attempt at the Kaggle competition located at:\n",
    "https://www.kaggle.com/datasets/jp797498e/twitter-entity-sentiment-analysis"
   ]
  },
  {
   "cell_type": "code",
   "execution_count": 1,
   "id": "951259da-1079-4e0f-92f0-b3c8ecfebc2f",
   "metadata": {},
   "outputs": [],
   "source": [
    "import numpy as np\n",
    "import matplotlib.pyplot as plt\n",
    "import pandas as pd"
   ]
  },
  {
   "cell_type": "markdown",
   "id": "e287076d-1559-42cf-b3b2-0b9266fdd75f",
   "metadata": {},
   "source": [
    "First, we will retrieve the training and testing data sets. Then we will inspect the data to see how it is organized and determine how we want to organize it for the applications that we are using."
   ]
  },
  {
   "cell_type": "code",
   "execution_count": 2,
   "id": "e9cd9724-d376-4ecb-85d4-cbac8322cebc",
   "metadata": {},
   "outputs": [
    {
     "name": "stdout",
     "output_type": "stream",
     "text": [
      "Training data preview:\n",
      "2401,Borderlands,Positive,\"im getting on borderlands and i will murder you all ,\" \n",
      "\n",
      "2401,Borderlands,Positive,\"I am coming to the borders and I will kill you all,\" \n",
      "\n",
      "2401,Borderlands,Positive,\"im getting on borderlands and i will kill you all,\" \n",
      "\n",
      "2401,Borderlands,Positive,\"im coming on borderlands and i will murder you all,\" \n",
      "\n",
      "2401,Borderlands,Positive,\"im getting on borderlands 2 and i will murder you me all,\" \n",
      "\n",
      "2401,Borderlands,Positive,\"im getting into borderlands and i can murder you all,\" \n",
      "\n",
      "2402,Borderlands,Positive,So I spent a few hours making something for fun. . . If you don't know I am a HUGE @Borderlands fan and Maya is one of my favorite characters. So I decided to make myself a wallpaper for my PC. . Here is the original image versus the creation I made :) Enjoy! pic.twitter.com/mLsI5wf9Jg \n",
      "\n",
      "2402,Borderlands,Positive,\"So I spent a couple of hours doing something for fun... If you don't know that I'm a huge @ Borderlands fan and Maya is one of my favorite characters, I decided to make a wallpaper for my PC.. Here's the original picture compared to the creation I made:) Have fun! pic.twitter.com / mLsI5wf9Jg\" \n",
      "\n",
      "2402,Borderlands,Positive,So I spent a few hours doing something for fun... If you don't know I'm a HUGE @ Borderlands fan and Maya is one of my favorite characters. \n",
      "\n",
      "2402,Borderlands,Positive,So I spent a few hours making something for fun. . . If you don't know I am a HUGE RhandlerR fan and Maya is one of my favorite characters. So I decided to make myself a wallpaper for my PC. . Here is the original image versus the creation I made :) Enjoy! pic.twitter.com/mLsI5wf9Jg \n",
      "\n",
      "Testing data preview:\n",
      "3364,Facebook,Irrelevant,\"I mentioned on Facebook that I was struggling for motivation to go for a run the other day, which has been translated by Tom’s great auntie as ‘Hayley can’t get out of bed’ and told to his grandma, who now thinks I’m a lazy, terrible person 🤣\" \n",
      "\n",
      "352,Amazon,Neutral,BBC News - Amazon boss Jeff Bezos rejects claims company acted like a 'drug dealer' bbc.co.uk/news/av/busine… \n",
      "\n",
      "8312,Microsoft,Negative,@Microsoft Why do I pay for WORD when it functions so poorly on my @SamsungUS Chromebook? 🙄 \n",
      "\n",
      "4371,CS-GO,Negative,\"CSGO matchmaking is so full of closet hacking, it's a truly awful game.\" \n",
      "\n",
      "4433,Google,Neutral,Now the President is slapping Americans in the face that he really did commit an unlawful act after his  acquittal! From Discover on Google vanityfair.com/news/2020/02/t… \n",
      "\n",
      "6273,FIFA,Negative,\"Hi @EAHelp I’ve had Madeleine McCann in my cellar for the past 13 years and the little sneaky thing just escaped whilst I was loading up some fifa points, she took my card and I’m having to use my paypal account but it isn’t working, can you help me resolve it please?\" \n",
      "\n",
      "7925,MaddenNFL,Positive,\"Thank you @EAMaddenNFL!!  \n",
      "\n",
      " \n",
      "\n",
      "New TE Austin Hooper in the ORANGE & BROWN!!  \n",
      "\n",
      " \n",
      "\n"
     ]
    }
   ],
   "source": [
    "# retrieve training data\n",
    "with open(\"twitter_training.csv\", \"r\") as file:\n",
    "    content = file.read()\n",
    "    lines = content.splitlines()\n",
    "\n",
    "print(\"Training data preview:\")\n",
    "for i in range(10):\n",
    "    print(lines[i], \"\\n\")\n",
    "\n",
    "# retrieve testing data\n",
    "with open(\"twitter_validation.csv\", \"r\") as file:\n",
    "    content = file.read()\n",
    "    lines = content.splitlines()\n",
    "\n",
    "print(\"Testing data preview:\")\n",
    "for i in range(10):\n",
    "    print(lines[i], \"\\n\")"
   ]
  },
  {
   "cell_type": "markdown",
   "id": "8b0dc73d-a76b-4fd7-a57c-72896da55453",
   "metadata": {},
   "source": [
    "So we see that entries are assigned a number (which we may call a tweet ID), a subject, a sentiment label, and the text of the tweet. So let's clean up the data. It looks like there are several tweets that have very similar entries, so let's remove all but one of these types of tweets. We will organize the data into dictionaries with the keys 'Subject', 'Sentiment', and 'Tweet'. We will keep track of tweet ID numbers, and if a tweet has a tweet ID that has already been used, we will remove it. We will also label encode the sentiment values to prepare for model training. The labels will correspond to the following values: 'Neutral' as 0, 'Positive' as 1, 'Negative' as 2, and 'Irrelevant' as 3. If any of the data points have missing fields, we do not add them to the datasets."
   ]
  },
  {
   "cell_type": "code",
   "execution_count": 3,
   "id": "8872d89b-532e-4154-a64b-39ac69c6cbd6",
   "metadata": {},
   "outputs": [
    {
     "name": "stdout",
     "output_type": "stream",
     "text": [
      "Number of tweets in raw data: 74682\n",
      "Number of tweets in resultant training data set: 12447\n"
     ]
    }
   ],
   "source": [
    "# retrieve training data\n",
    "with open(\"twitter_training.csv\", \"r\") as file:\n",
    "    content = file.read()\n",
    "    lines = content.splitlines()\n",
    "print(\"Number of tweets in raw data:\", len(lines))\n",
    "    \n",
    "# organize data into a dictionary\n",
    "train = {'subject': [], 'label': [], 'text': []}\n",
    "# keep track of tweet IDs\n",
    "tweetID = set()\n",
    "for tweet in lines:\n",
    "    # split at commas, but ignore commas in the tweet content\n",
    "    values = tweet.split(',', 3)\n",
    "    # don't add data with missing fields\n",
    "    if len(values) < 4:\n",
    "        continue\n",
    "    # don't add tweet if duplicate\n",
    "    if values[0] in tweetID:\n",
    "        continue\n",
    "    tweetID.add(values[0])\n",
    "\n",
    "    \n",
    "    train['subject'].append(values[1])\n",
    "    # encode 'Neutral' as 0\n",
    "    if values[2] == 'Neutral':\n",
    "        values[2] = 0\n",
    "    # encode 'Positive' as 1\n",
    "    if values[2] == 'Positive':\n",
    "        values[2] = 1\n",
    "    # encode 'Negative' as 2\n",
    "    if values[2] == 'Negative':\n",
    "        values[2] = 2\n",
    "    # encode 'Irrelevant' as 3\n",
    "    if values[2] == 'Irrelevant':\n",
    "        values[2] = 3\n",
    "    train['label'].append(values[2])\n",
    "    train['text'].append(values[3])\n",
    "print(\"Number of tweets in resultant training data set:\", len(train['subject']))"
   ]
  },
  {
   "cell_type": "code",
   "execution_count": 4,
   "id": "d456e99f-a08e-413a-9822-e18e222e739d",
   "metadata": {},
   "outputs": [],
   "source": [
    "# retrieve testing data\n",
    "with open(\"twitter_validation.csv\", \"r\") as file:\n",
    "    content = file.read()\n",
    "    lines = content.splitlines()\n",
    "\n",
    "# organize data into a dictionary\n",
    "test = {'subject': [], 'label': [], 'text': []}\n",
    "for tweet in lines:\n",
    "    # split at commas, but ignore commas in the tweet content\n",
    "    values = tweet.split(',', 3)\n",
    "    # don't add data with missing fields\n",
    "    if len(values) < 4:\n",
    "        continue\n",
    "    \n",
    "    test['subject'].append(values[1])\n",
    "    # encode 'Neutral' as 0\n",
    "    if values[2] == 'Neutral':\n",
    "        values[2] = 0\n",
    "    # encode 'Positive' as 1\n",
    "    if values[2] == 'Positive':\n",
    "        values[2] = 1\n",
    "    # encode 'Negative' as 2\n",
    "    if values[2] == 'Negative':\n",
    "        values[2] = 2\n",
    "    # encode 'Irrelevant' as 3\n",
    "    if values[2] == 'Irrelevant':\n",
    "        values[2] = 3\n",
    "    test['label'].append(values[2])\n",
    "    test['text'].append(values[3])"
   ]
  },
  {
   "cell_type": "markdown",
   "id": "7dbc4cae-f18d-49f2-b322-7a3244f7dc8d",
   "metadata": {},
   "source": [
    "Check categories of 'Sentiment' for both data sets to ensure that no abnormal values exist."
   ]
  },
  {
   "cell_type": "code",
   "execution_count": 5,
   "id": "b103bba7-cdbb-4852-b58f-d85f3d628b7d",
   "metadata": {},
   "outputs": [
    {
     "name": "stdout",
     "output_type": "stream",
     "text": [
      "Sentiment types in training data set: {0, 1, 2, 3}\n",
      "Sentiment types in testing data set: {0, 1, 2, 3}\n"
     ]
    }
   ],
   "source": [
    "sentimentTypes = set()\n",
    "for i in range(len(train['label'])):\n",
    "    sentimentTypes.add(train['label'][i])\n",
    "print(\"Sentiment types in training data set:\", sentimentTypes)\n",
    "\n",
    "sentimentTypes = set()\n",
    "for i in range(len(test['label'])):\n",
    "    sentimentTypes.add(test['label'][i])\n",
    "print(\"Sentiment types in testing data set:\", sentimentTypes)"
   ]
  },
  {
   "cell_type": "markdown",
   "id": "d0e62f10-558b-4287-a010-6860a073713e",
   "metadata": {},
   "source": [
    "Check categories of 'Subject' for both data sets. Ensure each subject appears in both data sets."
   ]
  },
  {
   "cell_type": "code",
   "execution_count": 6,
   "id": "abb76443-9fdd-4f41-822a-b6cf42b0a08b",
   "metadata": {},
   "outputs": [
    {
     "name": "stdout",
     "output_type": "stream",
     "text": [
      "Subject types in training data set: {'MaddenNFL', 'Overwatch', 'NBA2K', 'Battlefield', 'Dota2', 'PlayerUnknownsBattlegrounds(PUBG)', 'AssassinsCreed', 'Amazon', 'Borderlands', 'Xbox(Xseries)', 'TomClancysRainbowSix', 'FIFA', 'Fortnite', 'WorldOfCraft', 'Microsoft', 'GrandTheftAuto(GTA)', 'RedDeadRedemption(RDR)', 'Verizon', 'Cyberpunk2077', 'Facebook', 'CallOfDuty', 'johnson&johnson', 'LeagueOfLegends', 'TomClancysGhostRecon', 'Nvidia', 'HomeDepot', 'CallOfDutyBlackopsColdWar', 'ApexLegends', 'CS-GO', 'Google', 'Hearthstone', 'PlayStation5(PS5)'} \n",
      "\n",
      "Subject types in testing data set: {'MaddenNFL', 'Overwatch', 'NBA2K', 'Battlefield', 'Dota2', 'PlayerUnknownsBattlegrounds(PUBG)', 'AssassinsCreed', 'Amazon', 'Borderlands', 'Xbox(Xseries)', 'TomClancysRainbowSix', 'FIFA', 'Fortnite', 'GrandTheftAuto(GTA)', 'Microsoft', 'WorldOfCraft', 'RedDeadRedemption(RDR)', 'Verizon', 'Cyberpunk2077', 'Facebook', 'CallOfDuty', 'johnson&johnson', 'LeagueOfLegends', 'TomClancysGhostRecon', 'Nvidia', 'HomeDepot', 'CallOfDutyBlackopsColdWar', 'ApexLegends', 'CS-GO', 'Google', 'Hearthstone', 'PlayStation5(PS5)'} \n",
      "\n"
     ]
    }
   ],
   "source": [
    "subjectTypes = set()\n",
    "for i in range(len(train['subject'])):\n",
    "    subjectTypes.add(train['subject'][i])\n",
    "print(\"Subject types in training data set:\", subjectTypes, \"\\n\")\n",
    "\n",
    "subjectTypes = set()\n",
    "for i in range(len(test['subject'])):\n",
    "    subjectTypes.add(test['subject'][i])\n",
    "print(\"Subject types in testing data set:\", subjectTypes, \"\\n\")\n",
    "\n",
    "for sub in subjectTypes:\n",
    "    if sub not in train['subject'] or sub not in test['subject']:\n",
    "        print(sub, \"not in both data sets.\")"
   ]
  },
  {
   "cell_type": "markdown",
   "id": "c55167c8-ca04-493d-bf9c-dd8b06d9f34d",
   "metadata": {},
   "source": [
    "Convert the datasets into Pandas dataframes and show a preview."
   ]
  },
  {
   "cell_type": "code",
   "execution_count": 7,
   "id": "74c26cd0-73b1-489a-b91b-cd3f6dbe5b6f",
   "metadata": {},
   "outputs": [
    {
     "data": {
      "text/html": [
       "<div>\n",
       "<style scoped>\n",
       "    .dataframe tbody tr th:only-of-type {\n",
       "        vertical-align: middle;\n",
       "    }\n",
       "\n",
       "    .dataframe tbody tr th {\n",
       "        vertical-align: top;\n",
       "    }\n",
       "\n",
       "    .dataframe thead th {\n",
       "        text-align: right;\n",
       "    }\n",
       "</style>\n",
       "<table border=\"1\" class=\"dataframe\">\n",
       "  <thead>\n",
       "    <tr style=\"text-align: right;\">\n",
       "      <th></th>\n",
       "      <th>subject</th>\n",
       "      <th>label</th>\n",
       "      <th>text</th>\n",
       "    </tr>\n",
       "  </thead>\n",
       "  <tbody>\n",
       "    <tr>\n",
       "      <th>2</th>\n",
       "      <td>Borderlands</td>\n",
       "      <td>0</td>\n",
       "      <td>\"Rock-Hard La Varlope, RARE &amp; POWERFUL, HANDSO...</td>\n",
       "    </tr>\n",
       "    <tr>\n",
       "      <th>7</th>\n",
       "      <td>Borderlands</td>\n",
       "      <td>0</td>\n",
       "      <td>Check out this epic streamer!.</td>\n",
       "    </tr>\n",
       "    <tr>\n",
       "      <th>8</th>\n",
       "      <td>Borderlands</td>\n",
       "      <td>0</td>\n",
       "      <td>Blaming Sight for Tardiness! A little bit of b...</td>\n",
       "    </tr>\n",
       "    <tr>\n",
       "      <th>10</th>\n",
       "      <td>Borderlands</td>\n",
       "      <td>0</td>\n",
       "      <td>. . [</td>\n",
       "    </tr>\n",
       "    <tr>\n",
       "      <th>13</th>\n",
       "      <td>Borderlands</td>\n",
       "      <td>0</td>\n",
       "      <td>\"One of our own @ProfZeroo is live w/ @borderl...</td>\n",
       "    </tr>\n",
       "  </tbody>\n",
       "</table>\n",
       "</div>"
      ],
      "text/plain": [
       "        subject  label                                               text\n",
       "2   Borderlands      0  \"Rock-Hard La Varlope, RARE & POWERFUL, HANDSO...\n",
       "7   Borderlands      0                   Check out this epic streamer!.  \n",
       "8   Borderlands      0  Blaming Sight for Tardiness! A little bit of b...\n",
       "10  Borderlands      0                                            . . [  \n",
       "13  Borderlands      0  \"One of our own @ProfZeroo is live w/ @borderl..."
      ]
     },
     "metadata": {},
     "output_type": "display_data"
    },
    {
     "data": {
      "text/html": [
       "<div>\n",
       "<style scoped>\n",
       "    .dataframe tbody tr th:only-of-type {\n",
       "        vertical-align: middle;\n",
       "    }\n",
       "\n",
       "    .dataframe tbody tr th {\n",
       "        vertical-align: top;\n",
       "    }\n",
       "\n",
       "    .dataframe thead th {\n",
       "        text-align: right;\n",
       "    }\n",
       "</style>\n",
       "<table border=\"1\" class=\"dataframe\">\n",
       "  <thead>\n",
       "    <tr style=\"text-align: right;\">\n",
       "      <th></th>\n",
       "      <th>subject</th>\n",
       "      <th>label</th>\n",
       "      <th>text</th>\n",
       "    </tr>\n",
       "  </thead>\n",
       "  <tbody>\n",
       "    <tr>\n",
       "      <th>0</th>\n",
       "      <td>Borderlands</td>\n",
       "      <td>1</td>\n",
       "      <td>\"im getting on borderlands and i will murder y...</td>\n",
       "    </tr>\n",
       "    <tr>\n",
       "      <th>1</th>\n",
       "      <td>Borderlands</td>\n",
       "      <td>1</td>\n",
       "      <td>So I spent a few hours making something for fu...</td>\n",
       "    </tr>\n",
       "    <tr>\n",
       "      <th>3</th>\n",
       "      <td>Borderlands</td>\n",
       "      <td>1</td>\n",
       "      <td>that was the first borderlands session in a lo...</td>\n",
       "    </tr>\n",
       "    <tr>\n",
       "      <th>5</th>\n",
       "      <td>Borderlands</td>\n",
       "      <td>1</td>\n",
       "      <td>WE FINISHED BORDERLANDS 3 FINALLY YAS! Thank y...</td>\n",
       "    </tr>\n",
       "    <tr>\n",
       "      <th>11</th>\n",
       "      <td>Borderlands</td>\n",
       "      <td>1</td>\n",
       "      <td>Going to finish up Borderlands 2 today. I've g...</td>\n",
       "    </tr>\n",
       "  </tbody>\n",
       "</table>\n",
       "</div>"
      ],
      "text/plain": [
       "        subject  label                                               text\n",
       "0   Borderlands      1  \"im getting on borderlands and i will murder y...\n",
       "1   Borderlands      1  So I spent a few hours making something for fu...\n",
       "3   Borderlands      1  that was the first borderlands session in a lo...\n",
       "5   Borderlands      1  WE FINISHED BORDERLANDS 3 FINALLY YAS! Thank y...\n",
       "11  Borderlands      1  Going to finish up Borderlands 2 today. I've g..."
      ]
     },
     "metadata": {},
     "output_type": "display_data"
    },
    {
     "data": {
      "text/html": [
       "<div>\n",
       "<style scoped>\n",
       "    .dataframe tbody tr th:only-of-type {\n",
       "        vertical-align: middle;\n",
       "    }\n",
       "\n",
       "    .dataframe tbody tr th {\n",
       "        vertical-align: top;\n",
       "    }\n",
       "\n",
       "    .dataframe thead th {\n",
       "        text-align: right;\n",
       "    }\n",
       "</style>\n",
       "<table border=\"1\" class=\"dataframe\">\n",
       "  <thead>\n",
       "    <tr style=\"text-align: right;\">\n",
       "      <th></th>\n",
       "      <th>subject</th>\n",
       "      <th>label</th>\n",
       "      <th>text</th>\n",
       "    </tr>\n",
       "  </thead>\n",
       "  <tbody>\n",
       "    <tr>\n",
       "      <th>4</th>\n",
       "      <td>Borderlands</td>\n",
       "      <td>2</td>\n",
       "      <td>the biggest dissappoinment in my life came out...</td>\n",
       "    </tr>\n",
       "    <tr>\n",
       "      <th>6</th>\n",
       "      <td>Borderlands</td>\n",
       "      <td>2</td>\n",
       "      <td>Man Gearbox really needs to fix this dissapoin...</td>\n",
       "    </tr>\n",
       "    <tr>\n",
       "      <th>9</th>\n",
       "      <td>Borderlands</td>\n",
       "      <td>2</td>\n",
       "      <td>why does like every man in borderlands have sl...</td>\n",
       "    </tr>\n",
       "    <tr>\n",
       "      <th>16</th>\n",
       "      <td>Borderlands</td>\n",
       "      <td>2</td>\n",
       "      <td>Grounded almost looked pretty cool even despit...</td>\n",
       "    </tr>\n",
       "    <tr>\n",
       "      <th>18</th>\n",
       "      <td>Borderlands</td>\n",
       "      <td>2</td>\n",
       "      <td>@Borderlands how do I submit a complaint? Your...</td>\n",
       "    </tr>\n",
       "  </tbody>\n",
       "</table>\n",
       "</div>"
      ],
      "text/plain": [
       "        subject  label                                               text\n",
       "4   Borderlands      2  the biggest dissappoinment in my life came out...\n",
       "6   Borderlands      2  Man Gearbox really needs to fix this dissapoin...\n",
       "9   Borderlands      2  why does like every man in borderlands have sl...\n",
       "16  Borderlands      2  Grounded almost looked pretty cool even despit...\n",
       "18  Borderlands      2  @Borderlands how do I submit a complaint? Your..."
      ]
     },
     "metadata": {},
     "output_type": "display_data"
    },
    {
     "data": {
      "text/html": [
       "<div>\n",
       "<style scoped>\n",
       "    .dataframe tbody tr th:only-of-type {\n",
       "        vertical-align: middle;\n",
       "    }\n",
       "\n",
       "    .dataframe tbody tr th {\n",
       "        vertical-align: top;\n",
       "    }\n",
       "\n",
       "    .dataframe thead th {\n",
       "        text-align: right;\n",
       "    }\n",
       "</style>\n",
       "<table border=\"1\" class=\"dataframe\">\n",
       "  <thead>\n",
       "    <tr style=\"text-align: right;\">\n",
       "      <th></th>\n",
       "      <th>subject</th>\n",
       "      <th>label</th>\n",
       "      <th>text</th>\n",
       "    </tr>\n",
       "  </thead>\n",
       "  <tbody>\n",
       "    <tr>\n",
       "      <th>17</th>\n",
       "      <td>Borderlands</td>\n",
       "      <td>3</td>\n",
       "      <td>\"Appreciate the (sonic) concepts / praxis Vale...</td>\n",
       "    </tr>\n",
       "    <tr>\n",
       "      <th>21</th>\n",
       "      <td>Borderlands</td>\n",
       "      <td>3</td>\n",
       "      <td>Loving these new @GhostLifestyle cans!! Anyone...</td>\n",
       "    </tr>\n",
       "    <tr>\n",
       "      <th>23</th>\n",
       "      <td>Borderlands</td>\n",
       "      <td>3</td>\n",
       "      <td>How the hell are we into Halloween month alrea...</td>\n",
       "    </tr>\n",
       "    <tr>\n",
       "      <th>37</th>\n",
       "      <td>Borderlands</td>\n",
       "      <td>3</td>\n",
       "      <td>\"I'm in this @CBP video. @DHS_Wolf deceptively...</td>\n",
       "    </tr>\n",
       "    <tr>\n",
       "      <th>44</th>\n",
       "      <td>Borderlands</td>\n",
       "      <td>3</td>\n",
       "      <td>4 favorite games of all time. (thanks @317Slay...</td>\n",
       "    </tr>\n",
       "  </tbody>\n",
       "</table>\n",
       "</div>"
      ],
      "text/plain": [
       "        subject  label                                               text\n",
       "17  Borderlands      3  \"Appreciate the (sonic) concepts / praxis Vale...\n",
       "21  Borderlands      3  Loving these new @GhostLifestyle cans!! Anyone...\n",
       "23  Borderlands      3  How the hell are we into Halloween month alrea...\n",
       "37  Borderlands      3  \"I'm in this @CBP video. @DHS_Wolf deceptively...\n",
       "44  Borderlands      3  4 favorite games of all time. (thanks @317Slay..."
      ]
     },
     "metadata": {},
     "output_type": "display_data"
    }
   ],
   "source": [
    "# convert the data sets to Pandas dataframes\n",
    "train = pd.DataFrame(train)\n",
    "test = pd.DataFrame(test)\n",
    "\n",
    "# show the first tweet for each sentiment\n",
    "display(train[train['label'] == 0].head())\n",
    "display(train[train['label'] == 1].head())\n",
    "display(train[train['label'] == 2].head())\n",
    "display(train[train['label'] == 3].head())"
   ]
  },
  {
   "cell_type": "code",
   "execution_count": 8,
   "id": "4d5354e6-952f-40d7-a22a-2193257399a5",
   "metadata": {},
   "outputs": [
    {
     "data": {
      "image/png": "[encoded data removed]",
      "text/plain": [
       "<Figure size 300x300 with 1 Axes>"
      ]
     },
     "metadata": {},
     "output_type": "display_data"
    },
    {
     "data": {
      "image/png": "[encoded data removed]",
      "text/plain": [
       "<Figure size 300x300 with 1 Axes>"
      ]
     },
     "metadata": {},
     "output_type": "display_data"
    },
    {
     "data": {
      "image/png": "[encoded data removed]",
      "text/plain": [
       "<Figure size 300x300 with 1 Axes>"
      ]
     },
     "metadata": {},
     "output_type": "display_data"
    },
    {
     "data": {
      "image/png": "[encoded data removed]",
      "text/plain": [
       "<Figure size 300x300 with 1 Axes>"
      ]
     },
     "metadata": {},
     "output_type": "display_data"
    },
    {
     "data": {
      "image/png": "[encoded data removed]",
      "text/plain": [
       "<Figure size 300x300 with 1 Axes>"
      ]
     },
     "metadata": {},
     "output_type": "display_data"
    }
   ],
   "source": [
    "# visualize sentiments by subject (from training data set)\n",
    "count = 0\n",
    "for sub in subjectTypes:\n",
    "    # count the number of tweets by sentiments\n",
    "    sentiment_counts = train[train['subject']==sub].groupby(['label']).size()\n",
    "\n",
    "    # make a pie chart\n",
    "    fig = plt.figure(figsize=(4,4), dpi=75)\n",
    "    ax = plt.subplot(111)\n",
    "    sentiment_counts.plot.pie(ax=ax, autopct='%1.1f%%', startangle=270, fontsize=12, label=sub)\n",
    "\n",
    "    # limit to 5 pie charts\n",
    "    count += 1\n",
    "    if count == 5:\n",
    "        break"
   ]
  },
  {
   "cell_type": "markdown",
   "id": "42c8e6d2-4705-44a5-aa5c-31a1292f1246",
   "metadata": {},
   "source": [
    "We can see that there is a lot of variation in sentiments between subjects. Now we will tokenize the text to prepare it for the model training and testing."
   ]
  },
  {
   "cell_type": "code",
   "execution_count": 9,
   "id": "59e04420-978f-4449-8456-f9766be40786",
   "metadata": {},
   "outputs": [
    {
     "data": {
      "application/vnd.jupyter.widget-view+json": {
       "model_id": "e03df3bd40e343c1ad29836ea0509a0c",
       "version_major": 2,
       "version_minor": 0
      },
      "text/plain": [
       "Map:   0%|          | 0/12447 [00:00<?, ? examples/s]"
      ]
     },
     "metadata": {},
     "output_type": "display_data"
    },
    {
     "data": {
      "application/vnd.jupyter.widget-view+json": {
       "model_id": "47f6e7d34b3a4a5c9808a6b6682795fa",
       "version_major": 2,
       "version_minor": 0
      },
      "text/plain": [
       "Map:   0%|          | 0/1000 [00:00<?, ? examples/s]"
      ]
     },
     "metadata": {},
     "output_type": "display_data"
    }
   ],
   "source": [
    "from transformers import AutoTokenizer\n",
    "import pyarrow as pa\n",
    "from datasets import Dataset\n",
    "tokenizer = AutoTokenizer.from_pretrained(\"distilbert-base-uncased\")\n",
    "\n",
    "def preprocess_function(text_data):\n",
    "   return tokenizer(text_data['text'], truncation=True, padding=True)\n",
    "\n",
    "tokenized_train = Dataset(pa.Table.from_pandas(train)).map(preprocess_function, batched=True)\n",
    "tokenized_test = Dataset(pa.Table.from_pandas(test)).map(preprocess_function, batched=True)"
   ]
  },
  {
   "cell_type": "markdown",
   "id": "16434d84-3091-417d-a5b0-7db6133a698d",
   "metadata": {},
   "source": [
    "To optimize the training time, we will use a data collator to convert the training data to PyTorch tensors and concatenate them with the appropriate padding. We will also establish DistilBERT as the machine learning model because it is a smaller and faster version of the NLP model BERT. We need to make sure that it is trained to predict the appropriate number of labels."
   ]
  },
  {
   "cell_type": "code",
   "execution_count": 10,
   "id": "f0bbd253-8c5a-43d7-b8ed-4fbb82d5c6ee",
   "metadata": {},
   "outputs": [
    {
     "name": "stderr",
     "output_type": "stream",
     "text": [
      "Some weights of DistilBertForSequenceClassification were not initialized from the model checkpoint at distilbert-base-uncased and are newly initialized: ['classifier.bias', 'classifier.weight', 'pre_classifier.bias', 'pre_classifier.weight']\n",
      "You should probably TRAIN this model on a down-stream task to be able to use it for predictions and inference.\n"
     ]
    }
   ],
   "source": [
    "from transformers import DataCollatorWithPadding\n",
    "data_collator = DataCollatorWithPadding(tokenizer=tokenizer)\n",
    "\n",
    "from transformers import AutoModelForSequenceClassification\n",
    "model = AutoModelForSequenceClassification.from_pretrained(\"distilbert-base-uncased\", num_labels=4)"
   ]
  },
  {
   "cell_type": "markdown",
   "id": "27e3c26b-eff1-4dab-a091-a70672f68bac",
   "metadata": {},
   "source": [
    "Build the trainer object."
   ]
  },
  {
   "cell_type": "code",
   "execution_count": 11,
   "id": "4122b0b9-6df5-4eff-a572-897a549c1f6c",
   "metadata": {},
   "outputs": [],
   "source": [
    "from transformers import TrainingArguments, Trainer\n",
    " \n",
    "repo_name = \"finetuning-sentiment-model-twitter-data\"\n",
    " \n",
    "training_args = TrainingArguments(\n",
    "   output_dir=repo_name,\n",
    "   learning_rate=2e-5,\n",
    "   per_device_train_batch_size=16,\n",
    "   per_device_eval_batch_size=16,\n",
    "   num_train_epochs=2,\n",
    "   weight_decay=0.01,\n",
    "   save_strategy='epoch',\n",
    "   push_to_hub=False,\n",
    ")\n",
    "\n",
    "trainer = Trainer(\n",
    "       model=model,\n",
    "       args=training_args,\n",
    "       train_dataset=tokenized_train,\n",
    "       processing_class=tokenizer,\n",
    "       data_collator=data_collator,\n",
    ")"
   ]
  },
  {
   "cell_type": "markdown",
   "id": "40d9d50c-8dea-427e-8b44-8507eb3adcf9",
   "metadata": {},
   "source": [
    "Execute training with the entire training data set of 12447 tweets."
   ]
  },
  {
   "cell_type": "code",
   "execution_count": 12,
   "id": "6b429616-4d7e-414e-93cc-d1fde3be5154",
   "metadata": {},
   "outputs": [
    {
     "data": {
      "text/html": [
       "\n",
       "    <div>\n",
       "      \n",
       "      <progress value='1556' max='1556' style='width:300px; height:20px; vertical-align: middle;'></progress>\n",
       "      [1556/1556 09:35, Epoch 2/2]\n",
       "    </div>\n",
       "    <table border=\"1\" class=\"dataframe\">\n",
       "  <thead>\n",
       " <tr style=\"text-align: left;\">\n",
       "      <th>Step</th>\n",
       "      <th>Training Loss</th>\n",
       "    </tr>\n",
       "  </thead>\n",
       "  <tbody>\n",
       "    <tr>\n",
       "      <td>500</td>\n",
       "      <td>1.098600</td>\n",
       "    </tr>\n",
       "    <tr>\n",
       "      <td>1000</td>\n",
       "      <td>0.914200</td>\n",
       "    </tr>\n",
       "    <tr>\n",
       "      <td>1500</td>\n",
       "      <td>0.832800</td>\n",
       "    </tr>\n",
       "  </tbody>\n",
       "</table><p>"
      ],
      "text/plain": [
       "<IPython.core.display.HTML object>"
      ]
     },
     "metadata": {},
     "output_type": "display_data"
    },
    {
     "data": {
      "text/plain": [
       "TrainOutput(global_step=1556, training_loss=0.9423443198510492, metrics={'train_runtime': 576.3402, 'train_samples_per_second': 43.193, 'train_steps_per_second': 2.7, 'total_flos': 854371973982072.0, 'train_loss': 0.9423443198510492, 'epoch': 2.0})"
      ]
     },
     "execution_count": 12,
     "metadata": {},
     "output_type": "execute_result"
    }
   ],
   "source": [
    "trainer.train()"
   ]
  },
  {
   "cell_type": "markdown",
   "id": "81d6425d-3217-4269-b55e-5f3e97d6082b",
   "metadata": {},
   "source": [
    "Now let's make predictions on the tokenized test data set. Then we will inspect the predictions object that was created."
   ]
  },
  {
   "cell_type": "code",
   "execution_count": 13,
   "id": "be527267-6f12-4a42-ab02-9acca5e78c2d",
   "metadata": {},
   "outputs": [
    {
     "data": {
      "text/html": [],
      "text/plain": [
       "<IPython.core.display.HTML object>"
      ]
     },
     "metadata": {},
     "output_type": "display_data"
    }
   ],
   "source": [
    "# create predictions for each tweet in the testing data set\n",
    "predictions = trainer.predict(tokenized_test)"
   ]
  },
  {
   "cell_type": "code",
   "execution_count": 14,
   "id": "fa930b87-1a8d-438b-bd04-92a9c537977b",
   "metadata": {},
   "outputs": [
    {
     "data": {
      "text/plain": [
       "array([[ 0.57203346, -1.4853753 , -0.7875915 ,  1.4867625 ],\n",
       "       [ 2.602408  , -1.3662411 , -0.6814147 , -0.56129557],\n",
       "       [-0.8503249 , -0.98526466,  2.8706765 , -1.497078  ],\n",
       "       ...,\n",
       "       [-0.32824287,  1.7873743 , -0.7743568 , -1.0367094 ],\n",
       "       [-0.0779582 ,  1.4614048 , -0.39883527, -1.3059323 ],\n",
       "       [ 2.5657485 , -0.9448805 , -0.6306575 , -0.9921087 ]],\n",
       "      dtype=float32)"
      ]
     },
     "execution_count": 14,
     "metadata": {},
     "output_type": "execute_result"
    }
   ],
   "source": [
    "predictions.predictions"
   ]
  },
  {
   "cell_type": "markdown",
   "id": "847e5730-bb0b-4498-b449-96fff4a87782",
   "metadata": {},
   "source": [
    "The predictions are given as lists of likelihoods, where the index of the list corresponds to the encoded label. The index of the highest likelihood is the prediction, so we will extract them from the predictions array and compare them to the actual labels."
   ]
  },
  {
   "cell_type": "code",
   "execution_count": 15,
   "id": "b0709ef2-75d7-416b-ba9a-141210fafe71",
   "metadata": {},
   "outputs": [],
   "source": [
    "preds = np.argmax(predictions.predictions, axis=-1)"
   ]
  },
  {
   "cell_type": "code",
   "execution_count": 16,
   "id": "2bf1f255-a39f-4c61-bc85-f825efdb8bf0",
   "metadata": {},
   "outputs": [
    {
     "name": "stdout",
     "output_type": "stream",
     "text": [
      "71.3 % accuracy\n"
     ]
    }
   ],
   "source": [
    "n = len(test['label'])\n",
    "correct = 0\n",
    "for i in range(n):\n",
    "    if test['label'][i] == preds[i]:\n",
    "        correct += 1\n",
    "print((correct / n)*100, \"% accuracy\")"
   ]
  },
  {
   "cell_type": "markdown",
   "id": "dfd75ce1-68fe-41e4-97f5-bf4f042350ea",
   "metadata": {},
   "source": [
    "So we see that the model predicted the sentiment of the testing data set with 71% accuracy. This is good performance for a lite version large language model. We may be able to change some parameters to get a higher accuracy. Let's look at the categories. The sentiments 'Irrelevant' and 'Neutral' are actually quite similar. Maybe if we combine the categories, it will increase our accuracy, since there are probably quite a few tweets mislabeled as 'Irrelevant' instead of 'Neutral' and vice versa. Let's begin by reading in the data again and redefining the label encoding."
   ]
  },
  {
   "cell_type": "code",
   "execution_count": 17,
   "id": "9e62ca3d-6c81-4921-974f-9b513d42a095",
   "metadata": {},
   "outputs": [
    {
     "name": "stdout",
     "output_type": "stream",
     "text": [
      "Number of tweets in raw data: 74682\n",
      "Number of tweets in resultant training data set: 12447\n"
     ]
    }
   ],
   "source": [
    "# retrieve training data\n",
    "with open(\"twitter_training.csv\", \"r\") as file:\n",
    "    content = file.read()\n",
    "    lines = content.splitlines()\n",
    "print(\"Number of tweets in raw data:\", len(lines))\n",
    "    \n",
    "# organize data into a dictionary\n",
    "train = {'subject': [], 'label': [], 'text': []}\n",
    "# keep track of tweet IDs\n",
    "tweetID = set()\n",
    "for tweet in lines:\n",
    "    # split at commas, but ignore commas in the tweet content\n",
    "    values = tweet.split(',', 3)\n",
    "    # don't add data with missing fields\n",
    "    if len(values) < 4:\n",
    "        continue\n",
    "    # don't add tweet if duplicate\n",
    "    if values[0] in tweetID:\n",
    "        continue\n",
    "    tweetID.add(values[0])\n",
    "\n",
    "    \n",
    "    train['subject'].append(values[1])\n",
    "    # encode 'Irrelevant' or 'Neutral' as 0\n",
    "    if values[2] == 'Irrelevant' or values[2] == 'Neutral':\n",
    "        values[2] = 0\n",
    "    # encode 'Positive' as 1\n",
    "    if values[2] == 'Positive':\n",
    "        values[2] = 1\n",
    "    # encode 'Negative' as 2\n",
    "    if values[2] == 'Negative':\n",
    "        values[2] = 2\n",
    "    train['label'].append(values[2])\n",
    "    train['text'].append(values[3])\n",
    "print(\"Number of tweets in resultant training data set:\", len(train['subject']))\n",
    "\n",
    "\n",
    "# retrieve testing data\n",
    "with open(\"twitter_validation.csv\", \"r\") as file:\n",
    "    content = file.read()\n",
    "    lines = content.splitlines()\n",
    "\n",
    "# organize data into a dictionary\n",
    "test = {'subject': [], 'label': [], 'text': []}\n",
    "for tweet in lines:\n",
    "    # split at commas, but ignore commas in the tweet content\n",
    "    values = tweet.split(',', 3)\n",
    "    # don't add data with missing fields\n",
    "    if len(values) < 4:\n",
    "        continue\n",
    "    \n",
    "    test['subject'].append(values[1])\n",
    "    # encode 'Irrelevant' or 'Neutral' as 0\n",
    "    if values[2] == 'Irrelevant' or values[2] == 'Neutral':\n",
    "        values[2] = 0\n",
    "    # encode 'Positive' as 1\n",
    "    if values[2] == 'Positive':\n",
    "        values[2] = 1\n",
    "    # encode 'Negative' as 2\n",
    "    if values[2] == 'Negative':\n",
    "        values[2] = 2\n",
    "    test['label'].append(values[2])\n",
    "    test['text'].append(values[3])"
   ]
  },
  {
   "cell_type": "markdown",
   "id": "58c1304e-4043-4e22-a482-9dc6f635e954",
   "metadata": {},
   "source": [
    "Now let's make sure we only have three categories."
   ]
  },
  {
   "cell_type": "code",
   "execution_count": 18,
   "id": "bd0736bc-9842-4f7c-a3b2-5685461c40b3",
   "metadata": {},
   "outputs": [
    {
     "name": "stdout",
     "output_type": "stream",
     "text": [
      "Sentiment types in training data set: {0, 1, 2}\n",
      "Sentiment types in testing data set: {0, 1, 2}\n"
     ]
    }
   ],
   "source": [
    "sentimentTypes = set()\n",
    "for i in range(len(train['label'])):\n",
    "    sentimentTypes.add(train['label'][i])\n",
    "print(\"Sentiment types in training data set:\", sentimentTypes)\n",
    "\n",
    "sentimentTypes = set()\n",
    "for i in range(len(test['label'])):\n",
    "    sentimentTypes.add(test['label'][i])\n",
    "print(\"Sentiment types in testing data set:\", sentimentTypes)"
   ]
  },
  {
   "cell_type": "markdown",
   "id": "3b111409-6e27-4304-8aaa-7a348bf26e4c",
   "metadata": {},
   "source": [
    "Now we tokenized the data sets with redefined labels."
   ]
  },
  {
   "cell_type": "code",
   "execution_count": 19,
   "id": "e223438e-520a-4840-aaab-d590f428697c",
   "metadata": {},
   "outputs": [
    {
     "data": {
      "application/vnd.jupyter.widget-view+json": {
       "model_id": "5656703cbd4c411d8bf0d7609629d8a1",
       "version_major": 2,
       "version_minor": 0
      },
      "text/plain": [
       "Map:   0%|          | 0/12447 [00:00<?, ? examples/s]"
      ]
     },
     "metadata": {},
     "output_type": "display_data"
    },
    {
     "data": {
      "application/vnd.jupyter.widget-view+json": {
       "model_id": "938409b15986419482ed74f13dfeebf5",
       "version_major": 2,
       "version_minor": 0
      },
      "text/plain": [
       "Map:   0%|          | 0/1000 [00:00<?, ? examples/s]"
      ]
     },
     "metadata": {},
     "output_type": "display_data"
    }
   ],
   "source": [
    "from transformers import AutoTokenizer\n",
    "import pyarrow as pa\n",
    "from datasets import Dataset\n",
    "tokenizer = AutoTokenizer.from_pretrained(\"distilbert-base-uncased\")\n",
    "\n",
    "def preprocess_function(text_data):\n",
    "   return tokenizer(text_data['text'], truncation=True, padding=True)\n",
    "\n",
    "# convert the data sets to Pandas dataframes\n",
    "train = pd.DataFrame(train)\n",
    "test = pd.DataFrame(test)\n",
    "# tokenize the data sets\n",
    "tokenized_train = Dataset(pa.Table.from_pandas(train)).map(preprocess_function, batched=True)\n",
    "tokenized_test = Dataset(pa.Table.from_pandas(test)).map(preprocess_function, batched=True)"
   ]
  },
  {
   "cell_type": "markdown",
   "id": "865f78cb-2d06-4742-b793-0d1a3290a35f",
   "metadata": {},
   "source": [
    "We need to take care to redefine the number of labels in the model."
   ]
  },
  {
   "cell_type": "code",
   "execution_count": 20,
   "id": "5e81c879-ae10-4e0c-a161-d17b9faa18bc",
   "metadata": {},
   "outputs": [
    {
     "name": "stderr",
     "output_type": "stream",
     "text": [
      "Some weights of DistilBertForSequenceClassification were not initialized from the model checkpoint at distilbert-base-uncased and are newly initialized: ['classifier.bias', 'classifier.weight', 'pre_classifier.bias', 'pre_classifier.weight']\n",
      "You should probably TRAIN this model on a down-stream task to be able to use it for predictions and inference.\n"
     ]
    }
   ],
   "source": [
    "model = AutoModelForSequenceClassification.from_pretrained(\"distilbert-base-uncased\", num_labels=3)"
   ]
  },
  {
   "cell_type": "markdown",
   "id": "f3d9ec1c-8aa5-48c0-91d5-9dbded88cfcc",
   "metadata": {},
   "source": [
    "Since we changed a few variables, we need to reinitialize the trainer object."
   ]
  },
  {
   "cell_type": "code",
   "execution_count": 21,
   "id": "df1c09e3-d194-4980-98c5-f1c05208d0d7",
   "metadata": {},
   "outputs": [],
   "source": [
    "trainer = Trainer(\n",
    "       model=model,\n",
    "       args=training_args,\n",
    "       train_dataset=tokenized_train,\n",
    "       processing_class=tokenizer,\n",
    "       data_collator=data_collator,\n",
    ")"
   ]
  },
  {
   "cell_type": "markdown",
   "id": "f35732d0-e6ef-44f4-8501-98c3a4e75aea",
   "metadata": {},
   "source": [
    "Now we re-train the model and evaluate its accuracy."
   ]
  },
  {
   "cell_type": "code",
   "execution_count": 22,
   "id": "0e475414-9ee3-42ef-b4d2-71acaa94a3ef",
   "metadata": {},
   "outputs": [
    {
     "data": {
      "text/html": [
       "\n",
       "    <div>\n",
       "      \n",
       "      <progress value='1556' max='1556' style='width:300px; height:20px; vertical-align: middle;'></progress>\n",
       "      [1556/1556 09:34, Epoch 2/2]\n",
       "    </div>\n",
       "    <table border=\"1\" class=\"dataframe\">\n",
       "  <thead>\n",
       " <tr style=\"text-align: left;\">\n",
       "      <th>Step</th>\n",
       "      <th>Training Loss</th>\n",
       "    </tr>\n",
       "  </thead>\n",
       "  <tbody>\n",
       "    <tr>\n",
       "      <td>500</td>\n",
       "      <td>0.840000</td>\n",
       "    </tr>\n",
       "    <tr>\n",
       "      <td>1000</td>\n",
       "      <td>0.688700</td>\n",
       "    </tr>\n",
       "    <tr>\n",
       "      <td>1500</td>\n",
       "      <td>0.614000</td>\n",
       "    </tr>\n",
       "  </tbody>\n",
       "</table><p>"
      ],
      "text/plain": [
       "<IPython.core.display.HTML object>"
      ]
     },
     "metadata": {},
     "output_type": "display_data"
    },
    {
     "data": {
      "text/plain": [
       "TrainOutput(global_step=1556, training_loss=0.7086189412212617, metrics={'train_runtime': 575.2649, 'train_samples_per_second': 43.274, 'train_steps_per_second': 2.705, 'total_flos': 854356738014234.0, 'train_loss': 0.7086189412212617, 'epoch': 2.0})"
      ]
     },
     "execution_count": 22,
     "metadata": {},
     "output_type": "execute_result"
    }
   ],
   "source": [
    "trainer.train()"
   ]
  },
  {
   "cell_type": "code",
   "execution_count": 23,
   "id": "c7b7ae06-cb60-480a-aa34-4f41529c6ddf",
   "metadata": {},
   "outputs": [
    {
     "data": {
      "text/html": [],
      "text/plain": [
       "<IPython.core.display.HTML object>"
      ]
     },
     "metadata": {},
     "output_type": "display_data"
    },
    {
     "name": "stdout",
     "output_type": "stream",
     "text": [
      "77.8 % accuracy\n"
     ]
    }
   ],
   "source": [
    "# create predictions for each tweet in the testing data set\n",
    "predictions = trainer.predict(tokenized_test)\n",
    "# extract predictions from outputs\n",
    "preds = np.argmax(predictions.predictions, axis=-1)\n",
    "# evaluate accuracy\n",
    "n = len(test['label'])\n",
    "correct = 0\n",
    "for i in range(n):\n",
    "    if test['label'][i] == preds[i]:\n",
    "        correct += 1\n",
    "print((correct / n)*100, \"% accuracy\")"
   ]
  },
  {
   "cell_type": "markdown",
   "id": "3f6cbf7f-170d-406f-ab49-152c2522f2cb",
   "metadata": {},
   "source": [
    "The model is now 77.8% accurate, which shows good improvement."
   ]
  },
  {
   "cell_type": "code",
   "execution_count": null,
   "id": "ad601192-4888-47c2-be26-576169ce6fb6",
   "metadata": {},
   "outputs": [],
   "source": []
  }
 ],
 "metadata": {
  "kernelspec": {
   "display_name": "Python 3 (ipykernel)",
   "language": "python",
   "name": "python3"
  },
  "language_info": {
   "codemirror_mode": {
    "name": "ipython",
    "version": 3
   },
   "file_extension": ".py",
   "mimetype": "text/x-python",
   "name": "python",
   "nbconvert_exporter": "python",
   "pygments_lexer": "ipython3",
   "version": "3.12.6"
  }
 },
 "nbformat": 4,
 "nbformat_minor": 5
}
